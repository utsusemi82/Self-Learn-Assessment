{
  "nbformat": 4,
  "nbformat_minor": 0,
  "metadata": {
    "colab": {
      "provenance": [],
      "include_colab_link": true
    },
    "kernelspec": {
      "name": "python3",
      "display_name": "Python 3"
    },
    "language_info": {
      "name": "python"
    }
  },
  "cells": [
    {
      "cell_type": "markdown",
      "metadata": {
        "id": "view-in-github",
        "colab_type": "text"
      },
      "source": [
        "<a href=\"https://colab.research.google.com/github/utsusemi82/Self-Learn-Assessment/blob/master/Lab_1.ipynb\" target=\"_parent\"><img src=\"https://colab.research.google.com/assets/colab-badge.svg\" alt=\"Open In Colab\"/></a>"
      ]
    },
    {
      "cell_type": "markdown",
      "source": [
        "**FCFS CPU Scheduling**\n",
        "\n",
        "FCFS scheduling stands for First Come First Serve, it is a non-preemtive algorithm in which it executes the processes in the queue according to their arrival time.\n",
        "\n",
        "The program that comes first will be executed first and the next process will be executed once the previous program is completed.\n",
        "\n",
        "\n",
        "**Terminology**\n",
        "\n",
        "Burst time - Time taken for a process to complete it's execution\n",
        "\n",
        "Turn around time - (Completion time - Arrival time)\n",
        "\n",
        "Waiting time - Time Difference between turn around time and burst time.\n",
        "\n",
        "Arrival time - Time where a process enters the queue\n",
        "\n",
        "**Pseudocode**\n",
        "\n",
        "    Initialise an empty list for waiting times\n",
        "    Initialise an empty list for turnaround times\n",
        "\n",
        "    Loop through the list of process\n",
        "        calculate waiting time by adding the burst time and waiting time of the\n",
        "        previous process\n",
        "        append waiting time to waiting time list\n",
        "\n",
        "    Loop through the list of process\n",
        "        calculate turnaround time by adding burst time and waiting time of\n",
        "        current process\n",
        "        append turnaround time to turnaround time list\n",
        "    \n",
        "    return the two lists\n"
      ],
      "metadata": {
        "id": "uOjuUbIoSlYB"
      }
    },
    {
      "cell_type": "markdown",
      "source": [
        "**FlowChart**\n",
        "\n",
        "![image_2023-04-02_223850493.png](data:image/png;base64,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)"
      ],
      "metadata": {
        "id": "6oC3Ih88ZzMH"
      }
    },
    {
      "cell_type": "code",
      "source": [
        "# Define a function for the First-Come First-Served (FCFS) scheduling algorithm\n",
        "def FCFS(processes, burst_times):\n",
        "    # Create empty lists for the waiting times and turnaround times\n",
        "    waiting_times = [0] * len(processes)\n",
        "    turnaround_times = [0] * len(processes)\n",
        "\n",
        "    # Calculate the waiting times for each process\n",
        "    waiting_times[0] = 0\n",
        "    for i in range(1, len(processes)):\n",
        "        waiting_times[i] = waiting_times[i-1] + burst_times[i-1]\n",
        "\n",
        "    # Calculate the turnaround times for each process\n",
        "    for i in range(len(processes)):\n",
        "        turnaround_times[i] = waiting_times[i] + burst_times[i]\n",
        "\n",
        "    # Return the waiting times and turnaround times\n",
        "    return waiting_times, turnaround_times"
      ],
      "metadata": {
        "id": "8RAfVhmjYBr-"
      },
      "execution_count": null,
      "outputs": []
    },
    {
      "cell_type": "code",
      "execution_count": null,
      "metadata": {
        "id": "fRGphoEWSija",
        "colab": {
          "base_uri": "https://localhost:8080/"
        },
        "outputId": "6462f7db-c8c0-4be2-b66c-42ff77725692"
      },
      "outputs": [
        {
          "output_type": "stream",
          "name": "stdout",
          "text": [
            "Processes: [1, 2, 3, 4, 5]\n",
            "Burst Times: [5, 4, 3, 2, 1]\n",
            "FCFS Scheduling Algorithm:\n",
            "Waiting Times: [0, 5, 9, 12, 14]\n",
            "Turnaround Times: [5, 9, 12, 14, 15]\n",
            "\n",
            "\n"
          ]
        }
      ],
      "source": [
        "# Testing the functions with sample inputs\n",
        "processes = [1, 2, 3, 4, 5]\n",
        "burst_times = [5, 4, 3, 2, 1]\n",
        "\n",
        "# Print out the sample inputs\n",
        "print(f\"Processes: {processes}\")\n",
        "print(f\"Burst Times: {burst_times}\")\n",
        "\n",
        "# Calculate waiting times and turnaround times using FCFS\n",
        "waiting_times_fcfs, turnaround_times_fcfs = FCFS(processes, burst_times)\n",
        "print(\"FCFS Scheduling Algorithm:\")\n",
        "print(f\"Waiting Times: {waiting_times_fcfs}\")\n",
        "print(f\"Turnaround Times: {turnaround_times_fcfs}\")\n",
        "print(\"\\n\")"
      ]
    }
  ]
}